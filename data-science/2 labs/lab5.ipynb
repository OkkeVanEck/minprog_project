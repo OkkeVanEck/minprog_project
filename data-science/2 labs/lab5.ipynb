{
 "cells": [
  {
   "cell_type": "markdown",
   "metadata": {},
   "source": [
    "# Lab 5: Working with a real dataset\n",
    "\n",
    "In the next examples we are going to read and use a structured dataset `happiness` which corresponds to Happiness World Report 2022. You can find more info about the meaning of each column in the dataset [here](https://worldhappiness.report/ed/2022/#appendices-and-data). Importantly, *Life Ladder* corresponds to the happiness index."
   ]
  },
  {
   "cell_type": "code",
   "execution_count": null,
   "metadata": {},
   "outputs": [],
   "source": [
    "import pandas as pd"
   ]
  },
  {
   "cell_type": "code",
   "execution_count": null,
   "metadata": {},
   "outputs": [],
   "source": [
    "happinessdataframe = pd.read_excel('happiness.xls', index_col=[0,1]) \n",
    "happinessdataframe.head()"
   ]
  },
  {
   "cell_type": "markdown",
   "metadata": {},
   "source": [
    "### Exercise 1\n",
    "\n",
    "Select data corresponding to the Netherlands\n",
    "\n",
    "*Expected output:* \n",
    "DataFrame with 15 rows (2005-2021) and 10 columns (all columns from th dataframe)"
   ]
  },
  {
   "cell_type": "code",
   "execution_count": null,
   "metadata": {},
   "outputs": [],
   "source": [
    "# Your code here"
   ]
  },
  {
   "cell_type": "markdown",
   "metadata": {},
   "source": [
    "### Exercise 2\n",
    "\n",
    "Group each row by `year` and for each year present the mean of each column.\n",
    "\n",
    "*Expected output:*\n",
    "Same as above but grouped by year"
   ]
  },
  {
   "cell_type": "code",
   "execution_count": null,
   "metadata": {},
   "outputs": [],
   "source": [
    "# Your code here"
   ]
  },
  {
   "cell_type": "markdown",
   "metadata": {},
   "source": [
    "### Exercise 3\n",
    "\n",
    "Group data by year and, for each year, present the *mean* and *variance* for the 'Healthy life expectancy at birth'.\n",
    "\n",
    "*Expected outcome:* \n",
    "\n",
    "DataFrame with 16 rows (2005 - 2020) and 2 columns (mean, var)"
   ]
  },
  {
   "cell_type": "code",
   "execution_count": null,
   "metadata": {},
   "outputs": [],
   "source": [
    "# Your code here"
   ]
  },
  {
   "cell_type": "markdown",
   "metadata": {},
   "source": [
    "### Exercise 4\n",
    "\n",
    "What was the happiest (i.e., highest 'Life Ladder') country in 2021? (use `idmax` and maximum 1 line of code)\n",
    "\n",
    "Tip: [:,2021] can be used to select data for all countries in 2021\n",
    "\n",
    "Expected outcome: \n",
    "\n",
    "`'Finland'`"
   ]
  },
  {
   "cell_type": "code",
   "execution_count": null,
   "metadata": {},
   "outputs": [],
   "source": [
    "# Your code"
   ]
  },
  {
   "cell_type": "markdown",
   "metadata": {},
   "source": [
    "### Exercise 5\n",
    "\n",
    "What was the Healthy life expectancy at birth in 2021, by country? \n",
    "\n",
    "Expected outcome: \n",
    "```\n",
    "    Country name\n",
    "    Afghanistan    54.549999\n",
    "    Albania        69.150002\n",
    "    Algeria        66.599998\n",
    "    Argentina      67.199997\n",
    "    Armenia        67.650002\n",
    "                 ...    \n",
    "    Uzbekistan     65.300003\n",
    "    Venezuela      64.050003\n",
    "    Vietnam        65.500000\n",
    "    Zambia         55.250000\n",
    "    Zimbabwe       54.049999\n",
    "```"
   ]
  },
  {
   "cell_type": "markdown",
   "metadata": {},
   "source": [
    "### Exercise 6\n",
    "What was the average GDP of the Netherlands from 2013 to 2019 (inclusive)\n",
    "\n",
    "*Expected output:*\n",
    "\n",
    "10.898346424102783"
   ]
  },
  {
   "cell_type": "code",
   "execution_count": null,
   "metadata": {},
   "outputs": [],
   "source": [
    "# Your code here"
   ]
  },
  {
   "cell_type": "markdown",
   "metadata": {},
   "source": [
    "### Exercise 7\n",
    "How did the world mean GDP evolved from 2006 to 2021?"
   ]
  },
  {
   "cell_type": "code",
   "execution_count": null,
   "metadata": {},
   "outputs": [],
   "source": [
    "# Your code here"
   ]
  },
  {
   "cell_type": "markdown",
   "metadata": {},
   "source": [
    "### Exercise 8\n",
    "\n",
    "Display the distribution of countries in terms of GDP and corruption in 2020 in a scatterplot."
   ]
  },
  {
   "cell_type": "code",
   "execution_count": null,
   "metadata": {},
   "outputs": [],
   "source": [
    "# Your code here"
   ]
  },
  {
   "cell_type": "markdown",
   "metadata": {},
   "source": [
    "### Exercise 9\n",
    "\n",
    "What was the mean happiness over the years? How much does it vary across countries, per year?"
   ]
  },
  {
   "cell_type": "code",
   "execution_count": null,
   "metadata": {},
   "outputs": [],
   "source": [
    "# Your code here"
   ]
  },
  {
   "cell_type": "markdown",
   "metadata": {},
   "source": [
    "### Exercise 10\n",
    "\n",
    "Create an histogram to represent how countries distributed in terms of Life expectancy in 2014."
   ]
  },
  {
   "cell_type": "code",
   "execution_count": null,
   "metadata": {},
   "outputs": [],
   "source": [
    "# Your code here"
   ]
  },
  {
   "cell_type": "markdown",
   "metadata": {},
   "source": [
    "### Exercise 11\n",
    "\n",
    "What was the relationship between GDP and Healthy life expectancy at birth in 2014? — produce a Scatter plot to visualize this relationship."
   ]
  },
  {
   "cell_type": "code",
   "execution_count": null,
   "metadata": {},
   "outputs": [],
   "source": [
    "# Your code here"
   ]
  },
  {
   "cell_type": "markdown",
   "metadata": {},
   "source": [
    "### Exercise 12\n",
    "\n",
    "How does the distribution of life expectancy in the top 50% happiest countries compare with the bottom 50%, considering all years?"
   ]
  },
  {
   "cell_type": "code",
   "execution_count": null,
   "metadata": {},
   "outputs": [],
   "source": [
    "# Your code here"
   ]
  }
 ],
 "metadata": {
  "kernelspec": {
   "display_name": "Python 3.10.6 64-bit",
   "language": "python",
   "name": "python3"
  },
  "language_info": {
   "codemirror_mode": {
    "name": "ipython",
    "version": 3
   },
   "file_extension": ".py",
   "mimetype": "text/x-python",
   "name": "python",
   "nbconvert_exporter": "python",
   "pygments_lexer": "ipython3",
   "version": "3.10.6"
  },
  "orig_nbformat": 4,
  "vscode": {
   "interpreter": {
    "hash": "aee8b7b246df8f9039afb4144a1f6fd8d2ca17a180786b69acc140d282b71a49"
   }
  }
 },
 "nbformat": 4,
 "nbformat_minor": 2
}
