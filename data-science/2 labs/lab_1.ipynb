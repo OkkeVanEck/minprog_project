{
 "cells": [
  {
   "cell_type": "markdown",
   "metadata": {},
   "source": [
    "# Lab 1: Python"
   ]
  },
  {
   "cell_type": "markdown",
   "metadata": {},
   "source": [
    "In this first lab we will experiment with some basic Python. The main purpose is to get acquainted with the data types Python supports.\n",
    "\n",
    "This notebook follows sections of [*A Whirlwind Tour of Python*](https://jakevdp.github.io/WhirlwindTourOfPython/) and Chapter 1 of the [*Python Data Science Handbook*](https://jakevdp.github.io/PythonDataScienceHandbook/). It may be useful to consult the references to complete the exercises."
   ]
  },
  {
   "cell_type": "markdown",
   "metadata": {},
   "source": [
    "## Built-in data types\n",
    "\n",
    "Python natively supports the following basic types:\n",
    "\n",
    "- **Boolean**: *bool*\n",
    "\n",
    "- **None**: *NoneType*\n",
    "\n",
    "- **Numerical**: *int, float, complex*\n",
    "\n",
    "- **Sequence**: *string, list, tuple*\n",
    "\n",
    "- **Set**: *set*\n",
    "\n",
    "- **Dictionaries**\n",
    "\n",
    "\n",
    "#### Mutable and immutable objects\n",
    "Python data types can be organized by types that can change after their creation, so-called mutable types and their immutable counterparts that do not admit such possibility. When a variable is of a mutable type, we can overwrite its value, instead of creating a new instance. Assigning a new value to an existing variable however is always a possibility."
   ]
  },
  {
   "cell_type": "markdown",
   "metadata": {},
   "source": [
    "## Integers and Strings\n",
    "\n",
    "The most frequently used data type are integers and strings.\n",
    "- **Integer**: `int` is a numerical type, e.g., `7`.\n",
    "- **String**: `string` is an **immutable** sequence of characters. In Python a string can be both defined by `' '` as `\" \"`. \n",
    "\n",
    "Check the following code as an example:\n"
   ]
  },
  {
   "cell_type": "code",
   "execution_count": null,
   "metadata": {},
   "outputs": [],
   "source": [
    "x = int(input(\"Please enter an integer: \"))\n",
    "if x < 0:\n",
    "    x = 0\n",
    "    print('Negative changed to zero')\n",
    "elif x == 0:\n",
    "    print('Zero')\n",
    "elif x == 1:\n",
    "    print('Single')\n",
    "else:\n",
    "    print('More')\n",
    "# Problems with this cell and using VS Code? Look on top of the editor!"
   ]
  },
  {
   "cell_type": "markdown",
   "metadata": {},
   "source": [
    "**Q1: Write code that receives two integers from the user and prints the highest.**"
   ]
  },
  {
   "cell_type": "code",
   "execution_count": null,
   "metadata": {},
   "outputs": [],
   "source": [
    "# Your code here"
   ]
  },
  {
   "cell_type": "code",
   "execution_count": null,
   "metadata": {},
   "outputs": [],
   "source": [
    "x = 10\n",
    "x = 'hello'\n",
    "x = \"hello to show no differences between quote and double quote\""
   ]
  },
  {
   "cell_type": "markdown",
   "metadata": {},
   "source": [
    "**Q2: Generete a string that is equal to `x` but where all characters are upper case?**\n",
    "\n",
    "Expected output: HELLO TO SHOW NO DIFFERENCES BETWEEN QUOTE AND DOUBLE QUOTE"
   ]
  },
  {
   "cell_type": "code",
   "execution_count": null,
   "metadata": {},
   "outputs": [],
   "source": [
    "# Your code here"
   ]
  },
  {
   "cell_type": "markdown",
   "metadata": {},
   "source": [
    "**Q3: Can you split string `x` given words separated by spaces?**\n",
    "\n",
    "Expected output: \n",
    "`['hello', 'to', 'show', 'no', 'differences', 'between', 'quote', 'and', 'double', 'quote']`"
   ]
  },
  {
   "cell_type": "code",
   "execution_count": null,
   "metadata": {},
   "outputs": [],
   "source": [
    "# Your code here"
   ]
  },
  {
   "cell_type": "markdown",
   "metadata": {},
   "source": [
    "**Q4 : Can you concatenate and print the strings <code>a</code>, <code>b</code> and <code>c</code>?**\n",
    "\n",
    "Expected output: `Name name is R2D2.`"
   ]
  },
  {
   "cell_type": "code",
   "execution_count": null,
   "metadata": {},
   "outputs": [],
   "source": [
    "a = \"Name name is\"\n",
    "b = \" R2D2\"\n",
    "c = \".\""
   ]
  },
  {
   "cell_type": "code",
   "execution_count": null,
   "metadata": {},
   "outputs": [],
   "source": [
    "# Your code here"
   ]
  },
  {
   "cell_type": "markdown",
   "metadata": {},
   "source": [
    "**Q5: Can you repeat string <code>b</code> 10 times using a maximum of 4 characters?**\n",
    "\n",
    "Expected output: \n",
    "`R2D2 R2D2 R2D2 R2D2 R2D2 R2D2 R2D2 R2D2 R2D2 R2D2`"
   ]
  },
  {
   "cell_type": "code",
   "execution_count": null,
   "metadata": {},
   "outputs": [],
   "source": [
    "# Your code here"
   ]
  },
  {
   "cell_type": "markdown",
   "metadata": {},
   "source": [
    "**Q6: Can you print the result of the following quantities?**\n",
    "\n",
    "* sum of a and b (Expected: 13)\n",
    "* a divided by b (Expected: 3.33333)\n",
    "* integer (or floor) division between a and b (Expected: 3)\n",
    "* integer remainder after division of a by b (Expected: 1)\n",
    "* a raised to the power of b (Expected: 1000)"
   ]
  },
  {
   "cell_type": "code",
   "execution_count": null,
   "metadata": {},
   "outputs": [],
   "source": [
    "a = 10\n",
    "b = 3"
   ]
  },
  {
   "cell_type": "code",
   "execution_count": null,
   "metadata": {},
   "outputs": [],
   "source": [
    "# Your code here"
   ]
  },
  {
   "cell_type": "markdown",
   "metadata": {},
   "source": [
    "**Q7: Can you explain why the first expression is evaluated as True and the second False? Substitute <code>#\\<line></code> such that both expressions evaluate to True**"
   ]
  },
  {
   "cell_type": "code",
   "execution_count": null,
   "metadata": {},
   "outputs": [],
   "source": [
    "a = 1.0\n",
    "b = 1.0\n",
    "\n",
    "# <line>\n",
    "\n",
    "print(a == b)\n",
    "print(a is b)"
   ]
  },
  {
   "cell_type": "markdown",
   "metadata": {},
   "source": [
    "## Lists\n",
    "\n",
    "Lists are **ordered mutable** sequences of **heterogeneous** elements.\n",
    "\n",
    "In Python, lists are defined by square brackets `[]` and their elements are separated by commas.\n",
    "\n",
    "Check the following code exemplifying some of the Python lists' functionality:"
   ]
  },
  {
   "cell_type": "code",
   "execution_count": null,
   "metadata": {},
   "outputs": [],
   "source": [
    "fruits = ['orange', 'apple', 'pear', 'banana', 'kiwi', 'apple', 'banana']"
   ]
  },
  {
   "cell_type": "code",
   "execution_count": null,
   "metadata": {},
   "outputs": [],
   "source": [
    "# Indexing\n",
    "fruits[4]"
   ]
  },
  {
   "cell_type": "code",
   "execution_count": null,
   "metadata": {},
   "outputs": [],
   "source": [
    "# Slicing\n",
    "fruits[2:5]"
   ]
  },
  {
   "cell_type": "code",
   "execution_count": null,
   "metadata": {},
   "outputs": [],
   "source": [
    "fruits.count('apple')"
   ]
  },
  {
   "cell_type": "code",
   "execution_count": null,
   "metadata": {},
   "outputs": [],
   "source": [
    "fruits.index('banana')"
   ]
  },
  {
   "cell_type": "code",
   "execution_count": null,
   "metadata": {},
   "outputs": [],
   "source": [
    "'apple' in fruits"
   ]
  },
  {
   "cell_type": "code",
   "execution_count": null,
   "metadata": {},
   "outputs": [],
   "source": [
    "fruits.sort(); fruits"
   ]
  },
  {
   "cell_type": "code",
   "execution_count": null,
   "metadata": {},
   "outputs": [],
   "source": [
    "len(fruits)"
   ]
  },
  {
   "cell_type": "code",
   "execution_count": null,
   "metadata": {},
   "outputs": [],
   "source": [
    "fruits += [100]; fruits"
   ]
  },
  {
   "cell_type": "markdown",
   "metadata": {},
   "source": [
    "**Q8: Insert 'strawberry' in the middle of the above list.**\n",
    "\n",
    "Expected output:\n",
    "\n",
    "`['apple', 'apple', 'banana', 'banana', 'strawberry', 'kiwi', 'orange', 'pear', 100]`"
   ]
  },
  {
   "cell_type": "code",
   "execution_count": null,
   "metadata": {},
   "outputs": [],
   "source": [
    "# Your code here"
   ]
  },
  {
   "cell_type": "markdown",
   "metadata": {},
   "source": [
    "**Q9: What will be the value of the list below pointed by `x`? Can you explain why?** \n",
    "\n",
    "Test your intuition by running `print(x)`"
   ]
  },
  {
   "cell_type": "code",
   "execution_count": null,
   "metadata": {},
   "outputs": [],
   "source": [
    "x = [1, 2, 3]\n",
    "y = x\n",
    "y[1] = 10"
   ]
  },
  {
   "cell_type": "markdown",
   "metadata": {},
   "source": [
    "Your answer here"
   ]
  },
  {
   "cell_type": "markdown",
   "metadata": {},
   "source": [
    "**Q10: Remove the value `100` from `x`**"
   ]
  },
  {
   "cell_type": "code",
   "execution_count": null,
   "metadata": {},
   "outputs": [],
   "source": [
    "# Your code here"
   ]
  },
  {
   "cell_type": "markdown",
   "metadata": {},
   "source": [
    "**Q11: Write code that tests if `a` is contained in `x`. Print *\"a not in x\"* if `a` is not contained in `x`.**"
   ]
  },
  {
   "cell_type": "code",
   "execution_count": null,
   "metadata": {},
   "outputs": [],
   "source": [
    "x = [0, 1, 2, 3, 4, 5, 6, 7, 8]\n",
    "a = 6.2"
   ]
  },
  {
   "cell_type": "code",
   "execution_count": null,
   "metadata": {},
   "outputs": [],
   "source": [
    "# Your code here"
   ]
  },
  {
   "cell_type": "markdown",
   "metadata": {},
   "source": [
    "**Q12: Write code to select elements of `x` from the 3rd to the second-last element (inclusive), using the minimum possible number of characters**\n",
    "\n",
    "Expected output: `[2, 3, 4, 5, 6, 7]`"
   ]
  },
  {
   "cell_type": "code",
   "execution_count": null,
   "metadata": {},
   "outputs": [],
   "source": [
    "# Your code here"
   ]
  },
  {
   "cell_type": "markdown",
   "metadata": {},
   "source": [
    "**Q13: Indexing: Can you write code to select elements of x in even positions (0, 2, 4, 6 ...)?\n",
    "-- use the minimum possible number of characters**\n",
    "\n",
    "Expected output: `[0, 2, 4, 6, 8]`"
   ]
  },
  {
   "cell_type": "code",
   "execution_count": null,
   "metadata": {},
   "outputs": [],
   "source": [
    "# Your code here"
   ]
  },
  {
   "cell_type": "markdown",
   "metadata": {},
   "source": [
    "**Q14: Indexing: Can you write code to select elements of x in odd positions (1, 3, 5...) in reverse order? -- use the minimum possible number of characters**\n",
    "\n",
    "Expected output: `[7, 5, 3, 1]`"
   ]
  },
  {
   "cell_type": "code",
   "execution_count": null,
   "metadata": {},
   "outputs": [],
   "source": [
    "# Your code here"
   ]
  },
  {
   "cell_type": "markdown",
   "metadata": {},
   "source": [
    "## Tuples\n",
    "\n",
    "Tuples are the **immutable** counterpart of lists. \n",
    "They are defined by round brackets `()` and they mainly differ from the list in that they do not accept those methods that tries to manipulate its elements."
   ]
  },
  {
   "cell_type": "markdown",
   "metadata": {},
   "source": [
    "**Q15: The next cell should yield a TypeError. Can you explain why? Can you create a list with the same values as <code>t</code> and assign 5 to position 2 of the newly created list?**"
   ]
  },
  {
   "cell_type": "code",
   "execution_count": null,
   "metadata": {},
   "outputs": [],
   "source": [
    "t = (1,2,3)\n",
    "t[2] = 5\n",
    "t"
   ]
  },
  {
   "cell_type": "markdown",
   "metadata": {},
   "source": [
    "Your answer here"
   ]
  },
  {
   "cell_type": "markdown",
   "metadata": {},
   "source": [
    "## Dictionaries\n",
    "\n",
    "Dictionaries are associative arrays mapping immutable types (string, numbers, tuples...) to arbitrary objects of any kind (all datatypes you earlier saw, variables, functions, modules...). Intuitively, they can be thought as collections of objects that we can recall by means of a unique key.\n",
    "\n",
    "To visualize a Python dictionary you can think of a telephone book, in which people names are the unique keys that you use to retrieve difference kinds of information (phone numbers, street address, mail address etc.). The same telephone number, street address or other information can be present in the entries of more people, but a label cannot be associated with more than one entry.\n",
    "\n",
    "In Python, dictionaries are defined by curly brackets `{}` or `dict()`, in which key-value pairs are separated by commas."
   ]
  },
  {
   "cell_type": "code",
   "execution_count": null,
   "metadata": {},
   "outputs": [],
   "source": [
    "phone = {'Martijn': 4098, 'Jelle': 4139}\n",
    "phone['Wouter'] = 4127\n",
    "phone"
   ]
  },
  {
   "cell_type": "code",
   "execution_count": null,
   "metadata": {},
   "outputs": [],
   "source": [
    "phone['Martijn']"
   ]
  },
  {
   "cell_type": "code",
   "execution_count": null,
   "metadata": {},
   "outputs": [],
   "source": [
    "phone.keys()"
   ]
  },
  {
   "cell_type": "code",
   "execution_count": null,
   "metadata": {},
   "outputs": [],
   "source": [
    "'Jelle' in phone"
   ]
  },
  {
   "cell_type": "markdown",
   "metadata": {},
   "source": [
    "## Sets\n",
    "\n",
    "Sets are **unordered** collections of **unique** items. They are commonly used to test membership, to remove duplicates or to compute mathematical operations such as intersection, union, difference, and symmetric difference. Being unordered collections, they do not support indexing, slicing and any other sequence-like behavior. But, this makes them extremely efficient.\n",
    "\n",
    "In Python, sets can be create beither by using the syntax  `set([])` or by using curly braces `{}`."
   ]
  },
  {
   "cell_type": "code",
   "execution_count": null,
   "metadata": {},
   "outputs": [],
   "source": [
    "primes = {2, 3, 5, 7}\n",
    "odds = set(range(1,10,2))\n",
    "odds"
   ]
  },
  {
   "cell_type": "code",
   "execution_count": null,
   "metadata": {},
   "outputs": [],
   "source": [
    "primes | odds"
   ]
  },
  {
   "cell_type": "code",
   "execution_count": null,
   "metadata": {},
   "outputs": [],
   "source": [
    "primes & odds"
   ]
  },
  {
   "cell_type": "code",
   "execution_count": null,
   "metadata": {},
   "outputs": [],
   "source": [
    "odds - primes"
   ]
  },
  {
   "cell_type": "markdown",
   "metadata": {},
   "source": [
    "**Q16: Can you write 1-line of code to count the number of integers from 0 to 10 that are prime and even?**\n",
    "\n",
    "Tip: use the variables <code>primes</code> and <code>odds</code> above and the corresponding set operators\n",
    "\n",
    "Expected output: {2}"
   ]
  },
  {
   "cell_type": "code",
   "execution_count": null,
   "metadata": {},
   "outputs": [],
   "source": [
    "# Your code here"
   ]
  },
  {
   "cell_type": "markdown",
   "metadata": {},
   "source": [
    "## Loops\n",
    "\n",
    "It is possible to use *for* to iterate over any object that is *iterable*. Iterable data types are lists, strings and tuples."
   ]
  },
  {
   "cell_type": "code",
   "execution_count": null,
   "metadata": {},
   "outputs": [],
   "source": [
    "for letter in 'words':\n",
    "    print(letter)"
   ]
  },
  {
   "cell_type": "code",
   "execution_count": null,
   "metadata": {},
   "outputs": [],
   "source": [
    "words = ['cat', 'window', 'defenestrate']\n",
    "for word in words:\n",
    "    print(word, len(word))"
   ]
  },
  {
   "cell_type": "code",
   "execution_count": null,
   "metadata": {},
   "outputs": [],
   "source": [
    "# Sets are also iterable, but notice that the order does not matter...\n",
    "setwords = {'cat', 'window', 'defenestrate'}\n",
    "for word in setwords:\n",
    "    print(word, len(word))"
   ]
  },
  {
   "cell_type": "code",
   "execution_count": null,
   "metadata": {},
   "outputs": [],
   "source": [
    "for i in range(5,10):\n",
    "    print(i)"
   ]
  },
  {
   "cell_type": "markdown",
   "metadata": {},
   "source": [
    "**Q17: For the list `['cat', 'window', 'defenestrate']`, can you work out how to output both the index - 0, 1 or 2 - and the entry - 'cat', 'window', 'defenestrate' - in the list on the same line in the print loop?**\n",
    "\n",
    "Expected output: \n",
    "`0 cat\n",
    "1 window \n",
    "2 defenestrate `"
   ]
  },
  {
   "cell_type": "code",
   "execution_count": null,
   "metadata": {},
   "outputs": [],
   "source": [
    "# Your code here"
   ]
  },
  {
   "cell_type": "markdown",
   "metadata": {},
   "source": [
    "**Q18: Can you output all the entries (key,value) in this dictionary, line by line?**\n",
    "\n",
    "Expected output: \n",
    "\n",
    "('Martijn', 4098)\\\n",
    "('Jelle', 4139)\\\n",
    "('Wouter', 4127)"
   ]
  },
  {
   "cell_type": "code",
   "execution_count": null,
   "metadata": {},
   "outputs": [],
   "source": [
    "# Your code here"
   ]
  },
  {
   "cell_type": "markdown",
   "metadata": {},
   "source": [
    "## List, Set and Dictionary Comprehension"
   ]
  },
  {
   "cell_type": "code",
   "execution_count": null,
   "metadata": {},
   "outputs": [],
   "source": [
    "[i for i in range(20) if i % 3 == 0]"
   ]
  },
  {
   "cell_type": "code",
   "execution_count": null,
   "metadata": {},
   "outputs": [],
   "source": [
    "{n**2 for n in range(12)}"
   ]
  },
  {
   "cell_type": "code",
   "execution_count": null,
   "metadata": {},
   "outputs": [],
   "source": [
    "{n:n**3 for n in range(6)}"
   ]
  },
  {
   "cell_type": "markdown",
   "metadata": {},
   "source": [
    "**Q19: Can you write code, using list comprehension, to generate the following output? `[(0, 0), (0, 1), (0, 2), (0, 3), (1, 0), (1, 1), (1, 2), (1, 3)]`, that is: (i,j) such that i goes from 0 to 1 and j from 0 to 3**"
   ]
  },
  {
   "cell_type": "code",
   "execution_count": null,
   "metadata": {},
   "outputs": [],
   "source": [
    "# Your code here"
   ]
  },
  {
   "cell_type": "markdown",
   "metadata": {},
   "source": [
    "## Function definition\n",
    "\n",
    "Functions are a way of creating more readable and reusable code. To create functions we will use the <code>def</code> statement. Below you can check a function implementing the first <code>N</code> values of the well-know [Fibonacci sequence](https://en.wikipedia.org/wiki/Fibonacci_number)."
   ]
  },
  {
   "cell_type": "code",
   "execution_count": null,
   "metadata": {},
   "outputs": [],
   "source": [
    "def fibonacci(N):\n",
    "    L = []\n",
    "    a, b = 0, 1\n",
    "    while len(L) < N:\n",
    "        a, b = b, a + b\n",
    "        L.append(a)\n",
    "    return L\n",
    "\n",
    "fibonacci(10)"
   ]
  },
  {
   "cell_type": "markdown",
   "metadata": {},
   "source": [
    "**Q20: Can you create a function that receives a string (argument named s) and a character (argument named c) and returns a new string with all occurences of c removed?**\n",
    "\n",
    "Example: \n",
    "\n",
    "<code>In: removeC(\"Hi, hello, my name is Joe\", 'o')\n",
    "Out: Hi, hell, my name is Je'\n"
   ]
  },
  {
   "cell_type": "code",
   "execution_count": null,
   "metadata": {},
   "outputs": [],
   "source": [
    "# Your code here"
   ]
  },
  {
   "cell_type": "markdown",
   "metadata": {},
   "source": [
    "**Q21: Can you create a function, named factorial, that receives an integer (argument named n) and returns the string \"The factorial of n is r\", where n in the function argument and r the result?**\n",
    "\n",
    "Example:\\\n",
    "`The factorial of 5 is 120`"
   ]
  },
  {
   "cell_type": "code",
   "execution_count": null,
   "metadata": {},
   "outputs": [],
   "source": [
    "# Your code here"
   ]
  }
 ],
 "metadata": {
  "kernelspec": {
   "display_name": "Python 3.10.6 64-bit",
   "language": "python",
   "name": "python3"
  },
  "language_info": {
   "codemirror_mode": {
    "name": "ipython",
    "version": 3
   },
   "file_extension": ".py",
   "mimetype": "text/x-python",
   "name": "python",
   "nbconvert_exporter": "python",
   "pygments_lexer": "ipython3",
   "version": "3.10.6"
  },
  "orig_nbformat": 4,
  "vscode": {
   "interpreter": {
    "hash": "aee8b7b246df8f9039afb4144a1f6fd8d2ca17a180786b69acc140d282b71a49"
   }
  }
 },
 "nbformat": 4,
 "nbformat_minor": 2
}
